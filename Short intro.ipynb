{
 "cells": [
  {
   "cell_type": "code",
   "execution_count": 1,
   "metadata": {
    "slideshow": {
     "slide_type": "skip"
    }
   },
   "outputs": [],
   "source": [
    "from qiskit import *\n",
    "from qiskit import Aer, transpile\n",
    "import qiskit.quantum_info as qi\n",
    "from qiskit.visualization import plot_histogram, plot_bloch_vector, plot_bloch_multivector\n",
    "from qiskit.providers.ibmq import least_busy\n",
    "from qiskit.extensions import Initialize\n",
    "import qiskit.tools.jupyter\n",
    "\n",
    "from math import sqrt, pi\n",
    "from latex import *\n",
    "%matplotlib inline\n",
    "%load_ext tikzmagic"
   ]
  },
  {
   "cell_type": "markdown",
   "metadata": {
    "slideshow": {
     "slide_type": "slide"
    }
   },
   "source": [
    "I think I can safely say that nobody understands quantum mechanics … Do not keep saying to yourself, if you can possibly avoid it, “But how can it be like that?” because you will get “down the drain”, into a blind alley from which nobody has yet escaped. Nobody knows how it can be like that. – Richard Feynman"
   ]
  },
  {
   "cell_type": "markdown",
   "metadata": {
    "slideshow": {
     "slide_type": "notes"
    }
   },
   "source": [
    " * Computers and aliens\n",
    " * Compute to find out something about the world"
   ]
  },
  {
   "cell_type": "markdown",
   "metadata": {
    "slideshow": {
     "slide_type": "slide"
    }
   },
   "source": [
    "<img src=\"https://quantum.country/assets/Africa_Europe_by_land.jpg\" />\n",
    "\n",
    "From [[1]](#references)"
   ]
  },
  {
   "cell_type": "markdown",
   "metadata": {
    "slideshow": {
     "slide_type": "subslide"
    }
   },
   "source": [
    "<img src=\"https://quantum.country/assets/Africa_Europe_by_sea.jpg\" />"
   ]
  },
  {
   "cell_type": "markdown",
   "metadata": {
    "slideshow": {
     "slide_type": "subslide"
    }
   },
   "source": [
    "Quantum Computers - advantage over classical computers - can efficiently simulate quantium mechanical processes"
   ]
  },
  {
   "cell_type": "markdown",
   "metadata": {
    "slideshow": {
     "slide_type": "slide"
    }
   },
   "source": [
    "# Short intro to Quantum Computing by Daniel Steger\n",
    "\n",
    "* A quick-and-dirty intro Qubits \n",
    "* Quantum circuits\n",
    "* Quantum teleportation\n",
    "* Grover's algorithm\n",
    "* Execution on IBM's quantum computer"
   ]
  },
  {
   "cell_type": "markdown",
   "metadata": {
    "slideshow": {
     "slide_type": "slide"
    }
   },
   "source": [
    "# Qubits\n",
    "\n",
    "## Base states [[2]](#references)\n",
    "\n",
    "$$\n",
    "\\begin{align}\n",
    "  |0 \\rangle \\equiv \\begin{bmatrix} 1\\\\ 0 \\end{bmatrix} \\qquad  |1 \\rangle \\equiv \\begin{bmatrix} 0\\\\ 1 \\end{bmatrix}\n",
    "\\end{align}\n",
    "$$"
   ]
  },
  {
   "cell_type": "markdown",
   "metadata": {
    "slideshow": {
     "slide_type": "subslide"
    }
   },
   "source": [
    "## Wavefunction for a generic quantum state\n",
    "\n",
    "$$\n",
    "\\begin{align}\n",
    "  |\\phi \\rangle = \\alpha |0 \\rangle + \\beta |1 \\rangle \\qquad \\alpha, \\beta \\in \\mathbb{C} \n",
    "\\end{align}\n",
    "$$\n",
    "\n",
    "$$\n",
    "\\begin{align}  \n",
    "  \\langle \\phi | \\phi \\rangle = \\begin{bmatrix} \\alpha & \\beta \\end{bmatrix} \\begin{bmatrix} \\alpha\\\\ \\beta \\end{bmatrix} = \\alpha^2 + \\beta^2 = 1\n",
    "\\end{align}\n",
    "$$\n",
    "$$\n",
    "\\begin{align}\n",
    "Norm: \\Arrowvert \\langle \\phi | \\phi \\rangle\\Arrowvert  = \\sqrt{\\alpha^2 + \\beta^2} = 1\n",
    "\\end{align}\n",
    "$$"
   ]
  },
  {
   "cell_type": "code",
   "execution_count": null,
   "metadata": {
    "slideshow": {
     "slide_type": "subslide"
    }
   },
   "outputs": [],
   "source": [
    "qc = QuantumCircuit(1)           # Create a quantum circuit with one qubit\n",
    "initial_state = [0,1]            # Define initial_state as |1>\n",
    "qc.initialize(initial_state, 0)  # Apply initialisation operation to the 0th qubit\n",
    "qc.draw('mpl', scale=2)          # Let's view our circuit"
   ]
  },
  {
   "cell_type": "markdown",
   "metadata": {
    "slideshow": {
     "slide_type": "subslide"
    }
   },
   "source": [
    "## Init and run a state vector simulator"
   ]
  },
  {
   "cell_type": "code",
   "execution_count": null,
   "metadata": {
    "slideshow": {
     "slide_type": "subslide"
    }
   },
   "outputs": [],
   "source": [
    "statevec_sim = Aer.get_backend(\"statevector_simulator\")\n",
    "job = execute(qc, backend=statevec_sim)\n",
    "result = job.result()\n",
    "statevec = result.get_statevector()\n",
    "display(Math(vector_to_latex(statevec, pretext=\"|\\\\psi\\\\rangle =\")))"
   ]
  },
  {
   "cell_type": "code",
   "execution_count": null,
   "metadata": {
    "slideshow": {
     "slide_type": "subslide"
    }
   },
   "outputs": [],
   "source": [
    "qasm_sim = Aer.get_backend(\"qasm_simulator\")\n",
    "qc.measure_all()                # Measure all qubits\n",
    "qasm_job = execute(qc, backend=qasm_sim, shots=1024).result()\n",
    "counts = qasm_job.get_counts()\n",
    "plot_histogram(counts)"
   ]
  },
  {
   "cell_type": "markdown",
   "metadata": {
    "slideshow": {
     "slide_type": "subslide"
    }
   },
   "source": [
    "# Interesting qubits\n",
    "\n",
    "$$\n",
    "|+\\rangle = \\tfrac{(|0\\rangle + |1\\rangle)}{\\sqrt{2}} \\qquad |-\\rangle = \\tfrac{(|0\\rangle - |1\\rangle)}{\\sqrt{2}}\n",
    "$$"
   ]
  },
  {
   "cell_type": "code",
   "execution_count": null,
   "metadata": {
    "slideshow": {
     "slide_type": "subslide"
    }
   },
   "outputs": [],
   "source": [
    "qc = QuantumCircuit(1)\n",
    "initial_state = [1/sqrt(2), 1j/sqrt(2)]\n",
    "qc.initialize(initial_state, 0)\n",
    "qc.measure_all()\n",
    "qc.draw('mpl', scale=2)"
   ]
  },
  {
   "cell_type": "code",
   "execution_count": null,
   "metadata": {
    "slideshow": {
     "slide_type": "subslide"
    }
   },
   "outputs": [],
   "source": [
    "qasm_sim = Aer.get_backend(\"qasm_simulator\")\n",
    "qasm_job = execute(qc, backend=qasm_sim, shots=1024).result()\n",
    "counts = qasm_job.get_counts()\n",
    "plot_histogram(counts)"
   ]
  },
  {
   "cell_type": "markdown",
   "metadata": {
    "slideshow": {
     "slide_type": "skip"
    }
   },
   "source": [
    "# Bloch sphere"
   ]
  },
  {
   "cell_type": "code",
   "execution_count": null,
   "metadata": {
    "slideshow": {
     "slide_type": "skip"
    }
   },
   "outputs": [],
   "source": [
    "from kaleidoscope.interactive import bloch_sphere\n",
    "\n",
    "def toBloch(matrix):\n",
    "    [[a, b], [c, d]] = matrix\n",
    "    x = complex(c + b).real\n",
    "    y = complex(c - b).imag\n",
    "    z = complex(a - d).real\n",
    "    return x, y, z\n",
    "\n",
    "qc = QuantumCircuit(1)\n",
    "\n",
    "rho = qi.DensityMatrix.from_instruction(qc)\n",
    "bloch_sphere(toBloch(rho.data), vectors_annotation=True)"
   ]
  },
  {
   "cell_type": "markdown",
   "metadata": {
    "slideshow": {
     "slide_type": "slide"
    }
   },
   "source": [
    "# Qubit gates"
   ]
  },
  {
   "cell_type": "markdown",
   "metadata": {
    "slideshow": {
     "slide_type": "subslide"
    }
   },
   "source": [
    "## Pauli gates\n",
    "\n",
    "$$\n",
    "\\begin{align}\n",
    "X = \\begin{bmatrix} 0 & 1 \\\\ 1 & 0 \\end{bmatrix} \\qquad  Y = \\begin{bmatrix} 0 & -i \\\\ i & 0 \\end{bmatrix} \\qquad \n",
    "Z = \\begin{bmatrix} 1 & 0 \\\\ 0 & -1 \\end{bmatrix} \n",
    "\\end{align}\n",
    "$$\n",
    "\n",
    "### Applying a gate to a qubit\n",
    "\n",
    "$$\n",
    "\\begin{align}\n",
    " X | 1\\rangle = \\begin{bmatrix} 0 & 1 \\\\ 1 & 0 \\end{bmatrix} \\begin{bmatrix} 0\\\\ 1 \\end{bmatrix} = \\begin{bmatrix} 1\\\\ 0 \\end{bmatrix}\n",
    "\\end{align}\n",
    "$$"
   ]
  },
  {
   "cell_type": "code",
   "execution_count": null,
   "metadata": {
    "slideshow": {
     "slide_type": "subslide"
    }
   },
   "outputs": [],
   "source": [
    "qc = QuantumCircuit(1)           \n",
    "initial_state = [0,1]           \n",
    "qc.initialize(initial_state, 0)\n",
    "qc.x(0)\n",
    "qc.x(0)\n",
    "qc.measure_all()            \n",
    "qc.draw('mpl', scale=2)"
   ]
  },
  {
   "cell_type": "code",
   "execution_count": null,
   "metadata": {
    "slideshow": {
     "slide_type": "subslide"
    }
   },
   "outputs": [],
   "source": [
    "qasm_sim = Aer.get_backend(\"qasm_simulator\")\n",
    "job = execute(qc, backend=statevec_sim)\n",
    "result = job.result()\n",
    "statevec = result.get_statevector()\n",
    "display(Math(vector_to_latex(statevec, pretext=\"|\\\\psi\\\\rangle =\")))"
   ]
  },
  {
   "cell_type": "markdown",
   "metadata": {
    "slideshow": {
     "slide_type": "subslide"
    }
   },
   "source": [
    "## Hadamard gate\n",
    "$$\n",
    "\\begin{align}\n",
    "X = \\frac{1}{\\sqrt{2}}\\begin{bmatrix} 1 & 1 \\\\ 1 & -1 \\end{bmatrix}\n",
    "\\end{align}\n",
    "$$"
   ]
  },
  {
   "cell_type": "code",
   "execution_count": null,
   "metadata": {
    "slideshow": {
     "slide_type": "subslide"
    }
   },
   "outputs": [],
   "source": [
    "qasm_sim = Aer.get_backend(\"qasm_simulator\")\n",
    "qasm_job = execute(qc, backend=qasm_sim, shots=1024).result()\n",
    "counts = qasm_job.get_counts()\n",
    "plot_histogram(counts)"
   ]
  },
  {
   "cell_type": "code",
   "execution_count": null,
   "metadata": {
    "slideshow": {
     "slide_type": "subslide"
    }
   },
   "outputs": [],
   "source": [
    "qc = QuantumCircuit(1)\n",
    "qc.h(0)\n",
    "qc.measure_all()\n",
    "qc.draw('mpl', scale=2)"
   ]
  },
  {
   "cell_type": "markdown",
   "metadata": {
    "slideshow": {
     "slide_type": "subslide"
    }
   },
   "source": [
    "## CNOT Gate\n",
    "\n",
    "| $c_{in}$ | $t_{in}$ | $c_{out}$ | $t_{out}$ |\n",
    "|-------:|-------:|--------:|--------:|\n",
    "| $|0\\rangle$ | $|0\\rangle$ | $|0\\rangle$ | $|0\\rangle$ |\n",
    "| $|0\\rangle$ | $|1\\rangle$ | $|0\\rangle$ | $|1\\rangle$ |\n",
    "| $|1\\rangle$ | $|0\\rangle$ | $|1\\rangle$ | $\\mathbf{|1\\rangle}$ |\n",
    "| $|1\\rangle$ | $|1\\rangle$ | $|1\\rangle$ | $\\mathbf{|0\\rangle}$ |\n",
    "\n"
   ]
  },
  {
   "cell_type": "code",
   "execution_count": null,
   "metadata": {
    "slideshow": {
     "slide_type": "subslide"
    }
   },
   "outputs": [],
   "source": [
    "c = QuantumRegister(1, 'c')\n",
    "t = QuantumRegister(1, 't')\n",
    "qc = QuantumCircuit(c, t)\n",
    "qc.cx(c, t)\n",
    "qc.draw('mpl', scale=2)"
   ]
  },
  {
   "cell_type": "code",
   "execution_count": null,
   "metadata": {
    "slideshow": {
     "slide_type": "subslide"
    }
   },
   "outputs": [],
   "source": [
    "c = QuantumRegister(1, 'c')\n",
    "t = QuantumRegister(1, 't')\n",
    "qc = QuantumCircuit(c, t)\n",
    "qc.h(c)\n",
    "qc.cx(c, t)\n",
    "qc.draw('mpl', scale=2) "
   ]
  },
  {
   "cell_type": "code",
   "execution_count": null,
   "metadata": {
    "slideshow": {
     "slide_type": "subslide"
    }
   },
   "outputs": [],
   "source": [
    "job = execute(qc, backend=statevec_sim)\n",
    "result = job.result()\n",
    "statevec = result.get_statevector()\n",
    "display(Math(vector_to_latex(statevec, pretext=\"|\\\\psi\\\\rangle =\")))"
   ]
  },
  {
   "cell_type": "markdown",
   "metadata": {
    "slideshow": {
     "slide_type": "subslide"
    }
   },
   "source": [
    "## Bell state (EPR Pair)\n",
    "$$\n",
    "CNOT|+0\\rangle = \\frac{|00\\rangle + |11\\rangle}{\\sqrt{2}} = |\\Phi^+\\rangle\n",
    "$$"
   ]
  },
  {
   "cell_type": "code",
   "execution_count": null,
   "metadata": {
    "slideshow": {
     "slide_type": "subslide"
    }
   },
   "outputs": [],
   "source": [
    "c = QuantumRegister(1, 'c')\n",
    "t = QuantumRegister(1, 't')\n",
    "qc = QuantumCircuit(c, t)\n",
    "qc.h(c)\n",
    "qc.h(t)\n",
    "qc.z(t)\n",
    "qc.cx(c, t)\n",
    "qc.draw('mpl', scale=2) "
   ]
  },
  {
   "cell_type": "code",
   "execution_count": null,
   "metadata": {
    "slideshow": {
     "slide_type": "subslide"
    }
   },
   "outputs": [],
   "source": [
    "statevec_sim = Aer.get_backend(\"statevector_simulator\")\n",
    "job = execute(qc, backend=statevec_sim)\n",
    "result = job.result()\n",
    "statevec = result.get_statevector()\n",
    "display(Math(vector_to_latex(statevec, pretext=\"|\\\\psi\\\\rangle =\")))"
   ]
  },
  {
   "cell_type": "markdown",
   "metadata": {
    "slideshow": {
     "slide_type": "fragment"
    }
   },
   "source": [
    "$$\n",
    "CNOT|+-\\rangle = \\frac{|00\\rangle - |01\\rangle - |10\\rangle + |11\\rangle}{2} = |--\\rangle\n",
    "$$"
   ]
  },
  {
   "cell_type": "markdown",
   "metadata": {
    "slideshow": {
     "slide_type": "subslide"
    }
   },
   "source": [
    "## Toffoli Gate\n",
    "\n",
    "| $c_{in1}$ | $c_{in1}$ | $t_{in}$ | $c_{out1}$ | $c_{out2}$ |$t_{out}$ |\n",
    "|----------:|----------:|---------:|-----------:|-----------:|---------:|\n",
    "| $|0\\rangle$ | $|0\\rangle$ | $|0\\rangle$ | $|0\\rangle$ | $|0\\rangle$ | $|0\\rangle$ |\n",
    "| $|0\\rangle$ | $|1\\rangle$ | $|0\\rangle$ | $|0\\rangle$ | $|1\\rangle$ | $|0\\rangle$ |\n",
    "| $|1\\rangle$ | $|0\\rangle$ | $|0\\rangle$ | $|1\\rangle$ | $|0\\rangle$ | $|0\\rangle$ |\n",
    "| $|1\\rangle$ | $|1\\rangle$ | $|0\\rangle$ | $|1\\rangle$ | $|1\\rangle$ | $\\mathbf{|1\\rangle}$ |"
   ]
  },
  {
   "cell_type": "code",
   "execution_count": null,
   "metadata": {
    "slideshow": {
     "slide_type": "subslide"
    }
   },
   "outputs": [],
   "source": [
    "c = QuantumRegister(2, 'c')\n",
    "t = QuantumRegister(1, 't')\n",
    "qc = QuantumCircuit(c, t)\n",
    "qc.ccx(c[0], c[1], t)\n",
    "qc.draw('mpl', scale=2)"
   ]
  },
  {
   "cell_type": "markdown",
   "metadata": {
    "slideshow": {
     "slide_type": "slide"
    }
   },
   "source": [
    "# Quantum teleportation\n",
    "\n",
    "Alice shared an EPR pair with Bob some time ago. Bob is in hiding and Alice got the mission to send a secret message in form of a qubit $ |\\phi \\rangle = \\alpha |0 \\rangle + \\beta |1 \\rangle$ to Bob.\n",
    "\n",
    "She cannot copy the qubit like a classical bit. She cannot know the internal state of $|\\psi\\rangle$. The only thing she can do is send classical information."
   ]
  },
  {
   "cell_type": "markdown",
   "metadata": {
    "slideshow": {
     "slide_type": "subslide"
    }
   },
   "source": [
    "## Setup"
   ]
  },
  {
   "cell_type": "code",
   "execution_count": null,
   "metadata": {
    "slideshow": {
     "slide_type": "fragment"
    }
   },
   "outputs": [],
   "source": [
    "# Protocol uses 3 qubits and 2 classical bits in 2 different registers\n",
    "qr = QuantumRegister(3, name=\"q\")\n",
    "crz, crx = ClassicalRegister(1, name=\"crz\"), ClassicalRegister(1, name=\"crx\")\n",
    "cresult = ClassicalRegister(1, name=\"cresult\")\n",
    "teleportation_circuit = QuantumCircuit(qr, crz, crx, cresult)"
   ]
  },
  {
   "cell_type": "markdown",
   "metadata": {
    "slideshow": {
     "slide_type": "subslide"
    }
   },
   "source": [
    "## Step 1 \n",
    "\n",
    "Create the EPR pair in qubits $|q_1\\rangle$ and $|q_2\\rangle$."
   ]
  },
  {
   "cell_type": "code",
   "execution_count": null,
   "metadata": {
    "slideshow": {
     "slide_type": "fragment"
    }
   },
   "outputs": [],
   "source": [
    "teleportation_circuit.h(qr[1])\n",
    "teleportation_circuit.cx(qr[1], qr[2])\n",
    "# And view the circuit so far:\n",
    "teleportation_circuit.draw('mpl', scale=2)"
   ]
  },
  {
   "cell_type": "markdown",
   "metadata": {
    "slideshow": {
     "slide_type": "subslide"
    }
   },
   "source": [
    "## Step 2\n",
    "\n",
    "Alice interacts with $|\\psi\\rangle$ and her half EPR."
   ]
  },
  {
   "cell_type": "code",
   "execution_count": null,
   "metadata": {
    "slideshow": {
     "slide_type": "fragment"
    }
   },
   "outputs": [],
   "source": [
    "psi = [1/sqrt(2), 1/sqrt(2)]           \n",
    "init_gate = Initialize(psi)\n",
    "init_gate.label = \"init\"\n",
    "\n",
    "teleportation_circuit.append(init_gate, [qr[0]])\n",
    "\n",
    "teleportation_circuit.barrier()\n",
    "teleportation_circuit.cx(qr[0], qr[1])\n",
    "teleportation_circuit.h(qr[0])\n",
    "teleportation_circuit.draw('mpl', scale=1.5)"
   ]
  },
  {
   "cell_type": "markdown",
   "metadata": {
    "slideshow": {
     "slide_type": "subslide"
    }
   },
   "source": [
    "## Step 3\n",
    "\n",
    "Alice measures $|q_0\\rangle$ and $|q_1\\rangle$ and sends the infos to Bob."
   ]
  },
  {
   "cell_type": "code",
   "execution_count": null,
   "metadata": {
    "slideshow": {
     "slide_type": "fragment"
    }
   },
   "outputs": [],
   "source": [
    "teleportation_circuit.barrier()\n",
    "teleportation_circuit.measure(qr[0], crz)\n",
    "teleportation_circuit.measure(qr[1], crx)\n",
    "teleportation_circuit.draw('mpl', scale=1.5)"
   ]
  },
  {
   "cell_type": "markdown",
   "metadata": {
    "slideshow": {
     "slide_type": "subslide"
    }
   },
   "source": [
    "## Step 4\n",
    "\n",
    "Bob applies the classical bits in 4 different ways:\n",
    "* $00$ $\\rightarrow$  Do nothing\n",
    "* $01$ $\\rightarrow$  Apply $X$-Gate\n",
    "* $10$ $\\rightarrow$  Apply $Z$-Gate\n",
    "* $11$ $\\rightarrow$  Apply $ZX$-Gates"
   ]
  },
  {
   "cell_type": "code",
   "execution_count": null,
   "metadata": {
    "slideshow": {
     "slide_type": "fragment"
    }
   },
   "outputs": [],
   "source": [
    "teleportation_circuit.barrier()\n",
    "teleportation_circuit.x(qr[2]).c_if(crx, 1) # Apply gates if the registers \n",
    "teleportation_circuit.z(qr[2]).c_if(crz, 1) # are in the state '1'\n",
    "teleportation_circuit.draw('mpl', scale=1.5)"
   ]
  },
  {
   "cell_type": "code",
   "execution_count": null,
   "metadata": {
    "slideshow": {
     "slide_type": "subslide"
    }
   },
   "outputs": [],
   "source": [
    "deentangle = init_gate.gates_to_uncompute()\n",
    "teleportation_circuit.append(deentangle, [qr[2]])\n",
    "teleportation_circuit.measure(qr[2], cresult)\n",
    "teleportation_circuit.draw('mpl', scale=1.2)"
   ]
  },
  {
   "cell_type": "code",
   "execution_count": null,
   "metadata": {
    "slideshow": {
     "slide_type": "subslide"
    }
   },
   "outputs": [],
   "source": [
    "qasm_sim = Aer.get_backend(\"qasm_simulator\")\n",
    "qasm_job = execute(teleportation_circuit, backend=qasm_sim, shots=1024).result()\n",
    "counts = qasm_job.get_counts()\n",
    "plot_histogram(counts)"
   ]
  },
  {
   "cell_type": "markdown",
   "metadata": {
    "slideshow": {
     "slide_type": "slide"
    }
   },
   "source": [
    "## Grover's algorithm [[3]](#references)\n",
    "\n",
    "Search in an unsorted database. An oracle tells us if we have found the respective result:\n",
    "$$\n",
    "O|x\\rangle = \\begin{cases}\n",
    "   &|x\\rangle & x \\neq w\\\\\n",
    "   -&|x\\rangle & x = w\n",
    "    \\end{cases}\n",
    "$$"
   ]
  },
  {
   "cell_type": "markdown",
   "metadata": {
    "slideshow": {
     "slide_type": "subslide"
    }
   },
   "source": [
    "1. Init all qubits by applying a Hadamard gate\n",
    "\n",
    "![Grover 1](grover1.png \"image Title\")"
   ]
  },
  {
   "cell_type": "markdown",
   "metadata": {
    "slideshow": {
     "slide_type": "subslide"
    }
   },
   "source": [
    "2. Apply the oracle $O$\n",
    "\n",
    "![Grover 2](grover2.png \"image Title\")"
   ]
  },
  {
   "cell_type": "markdown",
   "metadata": {
    "slideshow": {
     "slide_type": "subslide"
    }
   },
   "source": [
    "3. Diffuse by reflecting $U = 2|s\\rangle \\langle s| - I$ with Hadamard gates\n",
    "\n",
    "![Grover 3](grover3.png \"image Title\")\n"
   ]
  },
  {
   "cell_type": "markdown",
   "metadata": {
    "slideshow": {
     "slide_type": "subslide"
    }
   },
   "source": [
    "Apply the grover iteration about $\\frac{\\pi}{4}\\sqrt{N}$ times and measure the output."
   ]
  },
  {
   "cell_type": "code",
   "execution_count": null,
   "metadata": {
    "slideshow": {
     "slide_type": "skip"
    }
   },
   "outputs": [],
   "source": [
    "%%tikz -s 1096,400 -f png -l arrows,calc\n",
    "    \\draw[very thick, ->, line join=miter,<->] (2.5,0) node(xline)[right] {$|s'\\rangle$} -|\n",
    "                    (0,2.5) node(yline)[above] {$|w\\rangle$};\n",
    "                    \n",
    "    \\draw[->, very thick, blue] (0,0) coordinate (es) -- ([turn]110:2.5) coordinate (ee) node[right]{$|s\\rangle = |\\psi_0\\rangle$};\n",
    "    \\draw[thick, black] (1,0) arc [start angle=0, end angle=20, radius=1cm] node[left, xshift=0.1cm, yshift=-.2cm]{$\\theta$}; \n",
    "            \n",
    "    \\begin{scope}[xshift=5cm]\n",
    "        \\draw[very thick, ->, line join=miter,<->] (0,2.5) node(eyline)[above] {$Amplitude$} |-\n",
    "                        (2.5,0) node(exline)[right] {$Items$};\n",
    "\n",
    "\t\t\\foreach \\i in {0, 0.2, 0.4, 0.6, 0.8, 1, 1.2, 1.4, 1.8, 2, 2.2}\n",
    "        \t%\\filldraw [line width=0.25mm,fill=blue!25] (\\i,0) -- +(.1, 0) -- +(.1,1) -- +(\\i,1);\n",
    "            \\draw[fill=blue!25!white] (\\i,0) rectangle +(.2,1);\n",
    "\t\n",
    "        \\draw (2.4,1) node[right] {$\\frac{1}{\\sqrt{N}}$};  \n",
    "\t\t\\draw[fill=blue!25!black] (1.6,0)node[below] {$w$} rectangle +(.2,1) ;\n",
    "      \\end{scope}"
   ]
  },
  {
   "cell_type": "code",
   "execution_count": null,
   "metadata": {
    "slideshow": {
     "slide_type": "skip"
    }
   },
   "outputs": [],
   "source": [
    "%%tikz -s 1096,600 -f png -l arrows,calc\n",
    "    \\draw[very thick, ->, line join=miter,<->] (2.5,0) node(xline)[right] {$|s'\\rangle$} -|\n",
    "                    (0,2.5) node(yline)[above] {$|w\\rangle$};\n",
    "                    \n",
    "    \\draw[->, very thick, black] (0,0) coordinate (es) -- ([turn]110:2.5) coordinate (ee) node[right]{$|s\\rangle$};\n",
    "    \\draw[->, very thick, blue] (0,0) coordinate (es) -- ([turn]70:2.5) coordinate (ee) node[right]{$O|s\\rangle$};\n",
    "    \n",
    "    \\draw[thick, black] (1,0) arc [start angle=0, end angle=-20, radius=1cm] node[left, xshift=.1cm, yshift=.2cm]{$\\theta$}; \n",
    "    \n",
    "    \\draw[thick, dashed, black, ->] (2,0.7) arc [start angle=10, end angle=-30, radius=2cm]; \n",
    "    \n",
    "    \\begin{scope}[xshift=5cm]\n",
    "        \\draw[very thick, ->, line join=miter,<->] (0,2.5) node(eyline)[above] {$Amplitude$} |-\n",
    "                        (2.5,0) node(exline)[right] {$Items$};\n",
    "\n",
    "\t\t\\foreach \\i in {0, 0.2, 0.4, 0.6, 0.8, 1, 1.2, 1.4, 1.8, 2, 2.2}\n",
    "        \t%\\filldraw [line width=0.25mm,fill=blue!25] (\\i,0) -- +(.1, 0) -- +(.1,1) -- +(\\i,1);\n",
    "        \t\\draw[fill=blue!25!white] (\\i,0) rectangle +(.2,1);\n",
    "        \n",
    "        \\draw (2.4,1) node[right] {$\\leq\\frac{1}{\\sqrt{N}}$}; \n",
    "\t\t\\draw[fill=blue!25!black] (1.6,0) rectangle +(.2,-1) node[below] {$|w\\rangle$};\n",
    "      \\end{scope}"
   ]
  },
  {
   "cell_type": "code",
   "execution_count": null,
   "metadata": {
    "slideshow": {
     "slide_type": "skip"
    }
   },
   "outputs": [],
   "source": [
    "%%tikz -s 1024,600 -f png -l arrows,calc\t\n",
    "\t\\draw[very thick, ->, line join=miter,<->] (2.5,0) node(xline)[right] {$|s'\\rangle$} -|\n",
    "                    (0,2.5) node(yline)[above] {$|w\\rangle$};\n",
    "                    \n",
    "    \\draw[->, very thick, black] (0,0) coordinate (es) -- ([turn]110:2.5) coordinate (ee) node[right]{$|s\\rangle = |\\psi_0\\rangle$};\n",
    "    \\draw[->, very thick, black] (0,0) coordinate (es) -- ([turn]70:2.5) coordinate (ee) node[right]{$O|s\\rangle$};\n",
    "    \\draw[->, very thick, blue] (0,0) coordinate (es) -- ([turn]150:2.5) coordinate (ee) node[right]{$UO|s\\rangle$};\n",
    "    \n",
    "    \\draw[thick, black] (.93cm,.34cm) node[left, xshift=-0.1cm, yshift=0.1cm]{$2\\theta$} arc [start angle=20, end angle=60, radius=1cm]; \n",
    "                \n",
    "    \\draw[thick, dashed, black, ->] (1.9,-0.7) arc [start angle=-30, end angle=60, radius=2cm];\n",
    "    \\begin{scope}[xshift=5cm]\n",
    "        \\draw[very thick, ->, line join=miter,<->] (0,2.5) node(eyline)[above] {$Amplitude$} |-\n",
    "                        (2.5,0) node(exline)[right] {$Items$};\n",
    "\n",
    "\t\t\\foreach \\i in {0, 0.2, 0.4, 0.6, 0.8, 1, 1.2, 1.4, 1.8, 2, 2.2}\n",
    "        \t%\\filldraw [line width=0.25mm,fill=blue!25] (\\i,0) -- +(.1, 0) -- +(.1,1) -- +(\\i,1);\n",
    "        \t\\draw[fill=blue!25!white] (\\i,0) rectangle +(.2,1);\n",
    "\t\n",
    "\t\t\\draw[fill=blue!25!black] (1.6,0)node[below, xshift=.2cm] {$|w\\rangle$} rectangle +(.2,1.5) ;\n",
    "      \\end{scope}\n",
    "      "
   ]
  },
  {
   "cell_type": "code",
   "execution_count": null,
   "metadata": {
    "slideshow": {
     "slide_type": "subslide"
    }
   },
   "outputs": [],
   "source": [
    "def initialize_s(qc, qubits):\n",
    "    \"\"\"Apply a H-gate to 'qubits' in qc\"\"\"\n",
    "    for q in qubits:\n",
    "        qc.h(q)\n",
    "    return qc"
   ]
  },
  {
   "cell_type": "markdown",
   "metadata": {
    "slideshow": {
     "slide_type": "slide"
    }
   },
   "source": [
    "## Task: find a 2-bit combination which are palindromes:\n",
    "\n",
    "States:\n",
    " * V_0, V_1, V_2\n",
    "\n",
    "Conditions:\n",
    " * V_0 = V_2\n",
    " * V_1 = 1"
   ]
  },
  {
   "cell_type": "markdown",
   "metadata": {
    "slideshow": {
     "slide_type": "subslide"
    }
   },
   "source": [
    "## Building a XOR gate and negate it"
   ]
  },
  {
   "cell_type": "code",
   "execution_count": null,
   "metadata": {
    "slideshow": {
     "slide_type": "fragment"
    }
   },
   "outputs": [],
   "source": [
    "def NOTXOR(qc, a, b, output):\n",
    "    qc.cx(a, output)\n",
    "    qc.cx(b, output)\n",
    "    qc.x(output)"
   ]
  },
  {
   "cell_type": "code",
   "execution_count": null,
   "metadata": {
    "slideshow": {
     "slide_type": "fragment"
    }
   },
   "outputs": [],
   "source": [
    "qc = QuantumCircuit(3)\n",
    "NOTXOR(qc, 0, 1, 2)\n",
    "qc.draw('mpl', scale=2)"
   ]
  },
  {
   "cell_type": "markdown",
   "metadata": {
    "slideshow": {
     "slide_type": "subslide"
    }
   },
   "source": [
    "## Building the Oracle $O$"
   ]
  },
  {
   "cell_type": "code",
   "execution_count": null,
   "metadata": {
    "slideshow": {
     "slide_type": "subslide"
    }
   },
   "outputs": [],
   "source": [
    "var_qubits = QuantumRegister(3, name='v')     # variable bits\n",
    "clause_qubits = QuantumRegister(1, name='c')  # bits to store clause-checks\n",
    "output_qubit = QuantumRegister(1, name='out')\n",
    "cbits = ClassicalRegister(3, name='cbits')\n",
    "\n",
    "# Create quantum circuit\n",
    "qc = QuantumCircuit(var_qubits, clause_qubits, output_qubit, cbits)\n",
    "\n",
    "def pali_oracle(qc, clause_qubits):\n",
    "    # Compute clauses\n",
    "    NOTXOR(qc, var_qubits[0], var_qubits[2], clause_qubits[0])\n",
    "\n",
    "    # Flip 'output' bit if all clauses are satisfied\n",
    "    qc.ccx(clause_qubits[0], var_qubits[1], output_qubit)\n",
    "\n",
    "    # Uncompute clauses to reset clause-checking bits to 0\n",
    "    NOTXOR(qc, var_qubits[0], var_qubits[2], clause_qubits[0])\n",
    "\n",
    "pali_oracle(qc, clause_qubits)\n",
    "qc.draw('mpl', scale=1.5)"
   ]
  },
  {
   "cell_type": "markdown",
   "metadata": {
    "slideshow": {
     "slide_type": "subslide"
    }
   },
   "source": [
    "## Building the Diffusor $U$"
   ]
  },
  {
   "cell_type": "code",
   "execution_count": null,
   "metadata": {
    "slideshow": {
     "slide_type": "fragment"
    }
   },
   "outputs": [],
   "source": [
    "def diffuser(nqubits):\n",
    "    qc = QuantumCircuit(nqubits)\n",
    "    # Apply transformation |s> -> |00..0> (H-gates)\n",
    "    for qubit in range(nqubits):\n",
    "        qc.h(qubit)\n",
    "    # Apply transformation |00..0> -> |11..1> (X-gates)\n",
    "    for qubit in range(nqubits):\n",
    "        qc.x(qubit)\n",
    "    # Do multi-controlled-Z gate\n",
    "    qc.h(nqubits-1)\n",
    "    qc.mct(list(range(nqubits-1)), nqubits-1)  # multi-controlled-toffoli\n",
    "    qc.h(nqubits-1)\n",
    "    # Apply transformation |11..1> -> |00..0>\n",
    "    for qubit in range(nqubits):\n",
    "        qc.x(qubit)\n",
    "    # Apply transformation |00..0> -> |s>\n",
    "    for qubit in range(nqubits):\n",
    "        qc.h(qubit)\n",
    "    # We will return the diffuser as a gate\n",
    "    U_s = qc.to_gate()\n",
    "    U_s.name = \"U\"\n",
    "    return U_s\n",
    "\n",
    "#diffuser(3).draw('mpl', scale=1.5)"
   ]
  },
  {
   "cell_type": "markdown",
   "metadata": {
    "slideshow": {
     "slide_type": "subslide"
    }
   },
   "source": [
    "## Putting the algorithm together"
   ]
  },
  {
   "cell_type": "code",
   "execution_count": null,
   "metadata": {
    "slideshow": {
     "slide_type": "subslide"
    }
   },
   "outputs": [],
   "source": [
    "var_qubits = QuantumRegister(3, name='v')\n",
    "clause_qubits = QuantumRegister(1, name='c')\n",
    "output_qubit = QuantumRegister(1, name='out')\n",
    "cbits = ClassicalRegister(3, name='cbits')\n",
    "qc = QuantumCircuit(var_qubits, clause_qubits, output_qubit, cbits)\n",
    "\n",
    "# Initialize 'out0' in state |-> or do HX\n",
    "qc.initialize([1, -1]/np.sqrt(2), output_qubit)\n",
    "\n",
    "# Initialize qubits in state |s>\n",
    "qc.h(var_qubits)\n",
    "qc.barrier()  # for visual separation\n",
    "\n",
    "## First Iteration\n",
    "# Apply our oracle\n",
    "pali_oracle(qc, clause_qubits)\n",
    "qc.barrier()  # for visual separation\n",
    "# Apply our diffuser\n",
    "qc.append(diffuser(3), [0,1,2])\n",
    "\n",
    "## Second Iteration\n",
    "#pali_oracle(qc, clause_qubits)\n",
    "#qc.barrier()  # for visual separation\n",
    "# Apply our diffuser\n",
    "#qc.append(diffuser(3), [0,1,2])\n",
    "\n",
    "# Measure the variable qubits\n",
    "qc.measure(var_qubits, cbits)\n",
    "\n",
    "qc.draw('mpl', fold=-1)"
   ]
  },
  {
   "cell_type": "code",
   "execution_count": null,
   "metadata": {
    "slideshow": {
     "slide_type": "subslide"
    }
   },
   "outputs": [],
   "source": [
    "qasm_sim = Aer.get_backend(\"qasm_simulator\")\n",
    "qasm_job = execute(qc, backend=qasm_sim, shots=1024).result()\n",
    "counts = qasm_job.get_counts()\n",
    "plot_histogram(counts)"
   ]
  },
  {
   "cell_type": "markdown",
   "metadata": {
    "slideshow": {
     "slide_type": "slide"
    }
   },
   "source": [
    "# Execution on a real quantum computer"
   ]
  },
  {
   "cell_type": "code",
   "execution_count": null,
   "metadata": {
    "slideshow": {
     "slide_type": "subslide"
    }
   },
   "outputs": [],
   "source": [
    "# Load IBM provider\n",
    "provider = IBMQ.load_account()\n",
    "provider = IBMQ.get_provider(\"ibm-q\")\n",
    "provider.backends()"
   ]
  },
  {
   "cell_type": "code",
   "execution_count": null,
   "metadata": {
    "slideshow": {
     "slide_type": "subslide"
    }
   },
   "outputs": [],
   "source": [
    "backend = least_busy(provider.backends(filters=lambda x: x.configuration().n_qubits >= 5 and \n",
    "                                   not x.configuration().simulator and x.status().operational==True))\n",
    "print(\"least busy backend: \", backend)"
   ]
  },
  {
   "cell_type": "code",
   "execution_count": null,
   "metadata": {
    "slideshow": {
     "slide_type": "subslide"
    }
   },
   "outputs": [],
   "source": [
    "backend = provider.get_backend('ibmq_quito')\n",
    "backend"
   ]
  },
  {
   "cell_type": "code",
   "execution_count": null,
   "metadata": {
    "slideshow": {
     "slide_type": "fragment"
    }
   },
   "outputs": [],
   "source": [
    "coupling_map = backend.configuration().coupling_map\n",
    "print(coupling_map)"
   ]
  },
  {
   "cell_type": "code",
   "execution_count": null,
   "metadata": {
    "slideshow": {
     "slide_type": "fragment"
    }
   },
   "outputs": [],
   "source": [
    "layout = {0: var_qubits[0], 1: clause_qubits[0], 2: var_qubits[2], 3: var_qubits[1], 4: output_qubit[0]}"
   ]
  },
  {
   "cell_type": "code",
   "execution_count": null,
   "metadata": {
    "slideshow": {
     "slide_type": "subslide"
    }
   },
   "outputs": [],
   "source": [
    "# Run our circuit on the least busy backend. Monitor the execution of the job in the queue\n",
    "from qiskit.tools.monitor import job_monitor\n",
    "transpiled_grover_circuit = transpile(qc, backend, initial_layout=layout, optimization_level=3)\n",
    "transpiled_grover_circuit.draw('mpl', fold=1)"
   ]
  },
  {
   "cell_type": "code",
   "execution_count": null,
   "metadata": {
    "slideshow": {
     "slide_type": "subslide"
    }
   },
   "outputs": [],
   "source": [
    "job = backend.run(transpiled_grover_circuit, shots=8192)\n",
    "job_monitor(job, interval=2)"
   ]
  },
  {
   "cell_type": "code",
   "execution_count": null,
   "metadata": {
    "slideshow": {
     "slide_type": "subslide"
    }
   },
   "outputs": [],
   "source": [
    "# Get the results from the computation\n",
    "results = job.result()\n",
    "answer = results.get_counts(qc)\n",
    "plot_histogram(answer)"
   ]
  },
  {
   "cell_type": "markdown",
   "metadata": {
    "slideshow": {
     "slide_type": "slide"
    }
   },
   "source": [
    "# Summary\n",
    "\n",
    "<img src=\"https://quantum.country/assets/strange_loop.png\" />\n",
    "\n",
    "From [[1]](#references)"
   ]
  },
  {
   "cell_type": "markdown",
   "metadata": {
    "slideshow": {
     "slide_type": "slide"
    }
   },
   "source": [
    "<a id='references'></a>\n",
    "# Bibliography \n",
    "\n",
    "1. Andy Matuschak and Michael A. Nielsen, “Quantum Computing for the Very Curious”, (https://quantum.country/qcvc), San Francisco (2019).\n",
    "2. Qiskit, “Representing Qubit States” (https://qiskit.org/textbook/ch-states/representing-qubit-states.html), IBM 2021.\n",
    "3. Qiskit, “Grover's algorithm” (https://qiskit.org/textbook/ch-algorithms/grover.html), IBM 2021.\n",
    "4. Michael A. Nielsen & Isaac L. Chuang, “[Quantum Computation and Quantum Information](https://en.wikipedia.org/wiki/Quantum_Computation_and_Quantum_Information)\", Cambridge 2010.\n",
    "5. M. A. Nielsen, E. Knill, R. Laflamme, “Complete quantum teleportation using nuclear magnetic resonance”, (https://arxiv.org/abs/quant-ph/9811020), Nature vol 395, 5 November 1998."
   ]
  },
  {
   "cell_type": "markdown",
   "metadata": {
    "slideshow": {
     "slide_type": "subslide"
    }
   },
   "source": [
    "6. CS 269Q: Stanford Course on Quantum Computing, (https://cs269q.stanford.edu/index.html), 2019\n",
    "7. Philip Krantz, Morten Kjaergaard, Fei Yan, Terry P. Orlando, Simon Gustavsson, William D. Oliver, “A Quantum Engineer's Guide to Superconducting Qubits”, (https://arxiv.org/abs/1904.06560), Applied Physics Reviews 6, 021318 (2019)\n",
    "8. Qiskit Learning, (https://qiskit.org/learn/), IBM 2021\n",
    "9. Andy Matuschak and Michael A. Nielsen, “Quantum Mechanics Distilled”, (https://quantum.country/qm), San Francisco (2020).\n",
    "10. J. J. Sakurai, Jim Napolitano, “Modern Quantum Mechanics”, (https://doi.org/10.1017/9781108499996), Cambridge 2018.\n",
    "11. Von Aristoteles zur Stringtheorie, (https://www.youtube.com/playlist?list=PLmDf0YliVUvGGAE-3CbIEoJM3DJHAaRzj)"
   ]
  }
 ],
 "metadata": {
  "celltoolbar": "Slideshow",
  "kernelspec": {
   "display_name": "Python 3",
   "language": "python",
   "name": "python3"
  },
  "language_info": {
   "codemirror_mode": {
    "name": "ipython",
    "version": 3
   },
   "file_extension": ".py",
   "mimetype": "text/x-python",
   "name": "python",
   "nbconvert_exporter": "python",
   "pygments_lexer": "ipython3",
   "version": "3.9.0"
  }
 },
 "nbformat": 4,
 "nbformat_minor": 4
}
